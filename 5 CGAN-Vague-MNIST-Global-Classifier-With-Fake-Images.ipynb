{
 "cells": [
  {
   "cell_type": "markdown",
   "metadata": {},
   "source": [
    "### Some tips\n",
    "* `tensor.squeeze()`: delete dimensions with size 1, egg. `[1, 28, 28] -> [28, 28]`\n",
    "* `tensor.flatten(start_dim=0)`: expend tensor to one dimension, egg. `[1, 28, 28] -> [784]`\n",
    "* `transforms.ToTensor()`:  convert `(H x W x C)` of `[0, 255]` to a torch.FloatTensor `(C x H x W)` of `[0.0, 1.0]`\n",
    "* `tensor.argmax(dim=1)`: return indices of the maximum values across a dimension\n",
    "* `torch.sum(t_x == t_x)`: compute the number of elements in x equals to that in y\n",
    "* `torch.cat(tensors, dim=0)`: concatenates tensor tuples\n",
    "* `torch.stack(tensors, dim=0)`: concatenates tensor tuples along a new dimension\n",
    "* `torch.unsqueeze(input, dim)`: insert a dimension of size one at the specified position to a tensor"
   ]
  },
  {
   "cell_type": "code",
   "execution_count": 1,
   "metadata": {
    "ExecuteTime": {
     "end_time": "2020-04-23T09:33:44.014898Z",
     "start_time": "2020-04-23T09:33:43.203940Z"
    }
   },
   "outputs": [
    {
     "name": "stdout",
     "output_type": "stream",
     "text": [
      "cuda:0\n"
     ]
    }
   ],
   "source": [
    "import torch\n",
    "from torchvision import datasets, transforms\n",
    "import torch.nn as nn\n",
    "from torch.utils.data import Dataset, DataLoader\n",
    "\n",
    "import torch.nn.functional as F\n",
    "import time\n",
    "import math\n",
    "import matplotlib.pyplot as plt\n",
    "import torchvision.utils as vutils\n",
    "import numpy as np\n",
    "import torchvision.models as tvmodels\n",
    "from torch.autograd import Variable\n",
    "manualseed = 47\n",
    "device = torch.device(\"cuda:0\" if (torch.cuda.is_available()) else \"cpu\")\n",
    "print(device)"
   ]
  },
  {
   "cell_type": "markdown",
   "metadata": {},
   "source": [
    "### Step 1: Create fake datasets "
   ]
  },
  {
   "cell_type": "markdown",
   "metadata": {},
   "source": [
    "#### Create dataset with fake images"
   ]
  },
  {
   "cell_type": "code",
   "execution_count": 2,
   "metadata": {
    "ExecuteTime": {
     "end_time": "2020-04-23T09:34:16.086928Z",
     "start_time": "2020-04-23T09:34:16.072967Z"
    }
   },
   "outputs": [],
   "source": [
    "from torch.utils.data import Dataset, DataLoader\n",
    "\n",
    "class Generator(nn.Module):\n",
    "    def __init__(self, ngf = 32):\n",
    "        super(Generator,self).__init__()\n",
    "        self.gen=nn.Sequential(\n",
    "            # 输入是 Z, 对Z进行卷积\n",
    "            nn.ConvTranspose2d(110, ngf*8, 4, 1, 0, bias=False),\n",
    "            nn.BatchNorm2d(ngf*8),\n",
    "            nn.ReLU(inplace=True),\n",
    "            # 输入特征图大小. (ngf*8) x 4 x 4\n",
    "            nn.ConvTranspose2d(ngf*8, ngf*4, 4, 2, 1, bias=False),\n",
    "            nn.BatchNorm2d(ngf*4),\n",
    "            nn.ReLU(inplace=True),\n",
    "            # 输入特征图大小. (ngf*4) x 8 x 8\n",
    "            nn.ConvTranspose2d(ngf*4, ngf*2, 4, 2, 1, bias=False),\n",
    "            nn.BatchNorm2d(ngf * 2),\n",
    "            nn.ReLU(inplace=True),\n",
    "            # 输入特征图大小. (ngf*2) x 16 x 16\n",
    "            nn.ConvTranspose2d(ngf*2, 1, 4, 2, 1, bias=False),\n",
    "            nn.Tanh()\n",
    "            # 输入特征图大小. (nc) x 32 x 32\n",
    "        )\n",
    "    def forward(self, x):\n",
    "        x=self.gen(x)\n",
    "        return x\n",
    "\n",
    "\n",
    "\n",
    "\n",
    "\n",
    "class FakeNumberDataset(Dataset):\n",
    "    def __init__(self, dataset_name=\"mnist\",transform=None):\n",
    "        \"\"\"\n",
    "            mix_ratio: real/fake\n",
    "        \"\"\"\n",
    "\n",
    "        if dataset_name==\"mnist\":\n",
    "            odataset = datasets.MNIST('MNIST_data', train=True, transform=transform)\n",
    "        elif dataset_name==\"fashion_mnist\":\n",
    "            odataset = datasets.FashionMNIST('MNIST_data', train=True, transform=transform)\n",
    "        elif dataset_name==\"cifar10\":\n",
    "            odataset = datasets.CIFAR10('MNIST_data', train=True, transform=transform)\n",
    "        else:\n",
    "            print(\"Wrong argument for dataset_name!\")\n",
    "            return None\n",
    "    \n",
    "\n",
    "\n",
    "        self.label = []\n",
    "        self.items = []\n",
    "        ############################\n",
    "        n_z=100\n",
    "        ############################\n",
    "        #target_num = mix_ratio * fake_images.shape[0]\n",
    "        #self.added_real = 0 \n",
    "#         print(len(odataset))\n",
    "       \n",
    "        netG = Generator().to(device)\n",
    "        netG.load_state_dict(torch.load('C:\\\\Users\\\\lz172\\\\Desktop\\\\mnist\\\\netG_params.pkl'))\n",
    "        for idx in range(len(odataset)):\n",
    "            x_idx, y_idx = odataset[idx]\n",
    "#             print(x_idx)\n",
    "            ###############################################\n",
    "            noise = torch.randn(1, 100)\n",
    "            labels_onehot = np.zeros((1,10))\n",
    "            labels_onehot[np.arange(1),y_idx]=1 # 这个9换成想生成的数字\n",
    "            noise=np.concatenate((noise.cpu().numpy(), labels_onehot),axis=1)\n",
    "            # 每张图片是0到9之间的数字\n",
    "            labels_onehot = Variable(torch.from_numpy(labels_onehot).float())\n",
    "#                 labels_onehot = Variable(torch.from_numpy(labels_onehot).float())\n",
    "            noise=noise.reshape([-1, 110, 1, 1])\n",
    "            noise=Variable(torch.from_numpy(noise).float())                \n",
    "            fake_image1 = netG(noise.to(device)).detach().cpu()\n",
    "            fake_image = torch.squeeze(fake_image1,0)\n",
    "            lamma = torch.rand(1)\n",
    "            x_idx = 0.8*fake_image + 0.2*x_idx\n",
    "#                 x_idx = fake_image\n",
    "            self.items.append(x_idx)\n",
    "            self.label.append(y_idx)\n",
    "\n",
    "            ##############################################\n",
    "            \n",
    "                \n",
    "\n",
    "    def checkAddedRealImgs(self):\n",
    "        return self.added_real\n",
    "    \n",
    "    def __len__(self):\n",
    "        return len(self.items)\n",
    "\n",
    "    def __getitem__(self, idx):\n",
    "        if torch.is_tensor(idx):\n",
    "            idx = idx.tolist()\n",
    "        return self.items[idx], self.label[idx]\n",
    "\n",
    "# transform = transforms.Compose([transforms.Resize(32),transforms.ToTensor(), transforms.Normalize((0.5,),(0.5,))])\n",
    "# trainset = datasets.MNIST('MNIST_data', download=True, train=True, transform=transform)\n",
    "\n",
    "# train_dataset_with_fake = FakeNumberDataset(fake_images=fake_images[0:6000], mix_ratio=0.01, odataset=trainset)\n",
    "# trainloader = torch.utils.data.DataLoader(train_dataset_with_fake, batch_size=64, shuffle=True)\n",
    "\n",
    "\n",
    "# testset = datasets.MNIST('MNIST_data', train=False, transform=transform)\n",
    "# testloader = torch.utils.data.DataLoader(testset, batch_size=64, shuffle=True)\n",
    "\n",
    "# print(\"Number of Train:\", len(train_dataset_with_fake), \"Number of Test:\", len(testset))"
   ]
  },
  {
   "cell_type": "markdown",
   "metadata": {},
   "source": [
    "### Step 2: create a neural network model (global classifier)"
   ]
  },
  {
   "cell_type": "code",
   "execution_count": 3,
   "metadata": {
    "ExecuteTime": {
     "end_time": "2020-04-23T09:34:19.610332Z",
     "start_time": "2020-04-23T09:34:19.424207Z"
    },
    "scrolled": true
   },
   "outputs": [
    {
     "name": "stdout",
     "output_type": "stream",
     "text": [
      "Model(\n",
      "  (conv1): Sequential(\n",
      "    (0): Conv2d(1, 16, kernel_size=(3, 3), stride=(1, 1))\n",
      "    (1): ReLU()\n",
      "  )\n",
      "  (pool1): MaxPool2d(kernel_size=2, stride=1, padding=0, dilation=1, ceil_mode=False)\n",
      "  (conv2): Sequential(\n",
      "    (0): Conv2d(16, 64, kernel_size=(3, 3), stride=(1, 1))\n",
      "    (1): ReLU()\n",
      "  )\n",
      "  (pool2): MaxPool2d(kernel_size=2, stride=1, padding=0, dilation=1, ceil_mode=False)\n",
      "  (dropout): Dropout(p=0.5, inplace=False)\n",
      "  (lfc1): Linear(in_features=43264, out_features=100, bias=True)\n",
      "  (lfc2): Linear(in_features=100, out_features=10, bias=True)\n",
      ")\n"
     ]
    },
    {
     "data": {
      "text/plain": [
       "'\\nfor param in test_m.parameters():\\n    print(type(param.data), param.size())\\n\\nx, y = next(iter(testloader))\\nprint(x.shape)\\nx = nn.Conv2d(3, 16, 3)(x)\\nprint(x.shape)\\nx = nn.MaxPool2d(2, stride=1)(x)\\nprint(x.shape)\\nx = nn.Conv2d(16, 64, 3)(x)\\nprint(x.shape)\\nx = nn.MaxPool2d(2, stride=1)(x)\\nprint(x.shape)\\n'"
      ]
     },
     "execution_count": 3,
     "metadata": {},
     "output_type": "execute_result"
    }
   ],
   "source": [
    "class Model(nn.Module):\n",
    "    def __init__(self, n_channel=1):\n",
    "        super(Model, self).__init__()\n",
    "        self.conv1 = nn.Sequential(nn.Conv2d(n_channel, 16, 3), nn.ReLU())\n",
    "        self.pool1 = nn.MaxPool2d(2, stride=1)\n",
    "        self.conv2 = nn.Sequential(nn.Conv2d(16, 64, 3), nn.ReLU())\n",
    "        self.pool2 = nn.MaxPool2d(2, stride=1)\n",
    "        self.dropout = nn.Dropout(p=0.5)\n",
    "        self.lfc1 = nn.Linear(64*26*26, 100)      # 这个4注意改掉\n",
    "        self.lfc2 = nn.Linear(100, 10)\n",
    "                                      \n",
    "    def forward(self, x):\n",
    "        x = self.conv1(x)\n",
    "        x = self.pool1(x)\n",
    "        x = self.conv2(x)\n",
    "        x = self.pool2(x)\n",
    "        x = self.dropout(x)\n",
    "        x = torch.flatten(x, start_dim=1)\n",
    "        return self.lfc2(self.lfc1(x))\n",
    "\n",
    "test_m = Model()\n",
    "print(test_m)\n",
    "\"\"\"\n",
    "for param in test_m.parameters():\n",
    "    print(type(param.data), param.size())\n",
    "\n",
    "x, y = next(iter(testloader))\n",
    "print(x.shape)\n",
    "x = nn.Conv2d(3, 16, 3)(x)\n",
    "print(x.shape)\n",
    "x = nn.MaxPool2d(2, stride=1)(x)\n",
    "print(x.shape)\n",
    "x = nn.Conv2d(16, 64, 3)(x)\n",
    "print(x.shape)\n",
    "x = nn.MaxPool2d(2, stride=1)(x)\n",
    "print(x.shape)\n",
    "\"\"\""
   ]
  },
  {
   "cell_type": "markdown",
   "metadata": {
    "ExecuteTime": {
     "end_time": "2020-02-29T05:02:10.013778Z",
     "start_time": "2020-02-29T05:02:10.010746Z"
    }
   },
   "source": [
    "### Step 3: train data (Adam)"
   ]
  },
  {
   "cell_type": "code",
   "execution_count": 4,
   "metadata": {
    "ExecuteTime": {
     "end_time": "2020-04-24T03:32:04.456194Z",
     "start_time": "2020-04-24T03:27:29.112215Z"
    },
    "scrolled": false
   },
   "outputs": [
    {
     "name": "stdout",
     "output_type": "stream",
     "text": [
      "2\n",
      "number of imgs in train set: 60000\n",
      "Start training loop...\n",
      "-------------------------------------\n",
      "300 938\n",
      "600 938\n",
      "900 938\n",
      "[1\\2], loss: 0.016782907769083977, train accuracy: 0.956000030040741, test accuracy: 0.9806999564170837.\n",
      "0m 11s (- 0m 11s) (1 50%)\n",
      "-------------------------------------\n",
      "300 938\n",
      "600 938\n",
      "900 938\n",
      "[2\\2], loss: 0.0036080381833016872, train accuracy: 0.9816833734512329, test accuracy: 0.9851999878883362.\n",
      "0m 20s (- 0m 0s) (2 100%)\n"
     ]
    },
    {
     "data": {
      "image/png": "[encoded data removed]",
      "text/plain": [
       "<Figure size 432x288 with 1 Axes>"
      ]
     },
     "metadata": {
      "needs_background": "light"
     },
     "output_type": "display_data"
    }
   ],
   "source": [
    "import time\n",
    "import math\n",
    "def asMinutes(s):\n",
    "    m = math.floor(s / 60)\n",
    "    s -= m * 60\n",
    "    h = math.floor(m / 60)\n",
    "    m -= h * 60\n",
    "    return '%dm %ds' % (m, s) if h==0 else '%dh %dm %ds' % (h, m, s)\n",
    "\n",
    "def timeSince(since, percent):\n",
    "    now = time.time()\n",
    "    s = now - since\n",
    "    es = s / (percent)\n",
    "    rs = es - s\n",
    "    return '%s (- %s)' % (asMinutes(s), asMinutes(rs))\n",
    "\n",
    "def checktestaccur( m, testdataloader, datasetsize):\n",
    "    # test 用的是真实数据，包括6\n",
    "    m.eval()\n",
    "    positive = float(0)\n",
    "    with torch.no_grad():\n",
    "        \n",
    "        \n",
    "        for x, y in testdataloader:\n",
    "            x = x.to(device)\n",
    "            y = y.to(device)\n",
    "            yhat = m(x)\n",
    "            positive += torch.sum(yhat.argmax(dim=1) == y)\n",
    "#             pre = yhat.argmax(dim=1)\n",
    "# #             for i in range(len(y)):\n",
    "#                 if y[i].data == 6:\n",
    "#                     all_6 += 1\n",
    "#                     if pre[i].data == 6:\n",
    "#                         true_6 += 1\n",
    "\n",
    "    return positive/datasetsize\n",
    "        \n",
    "epoches = 2  # 2 is best, 3 is fine\n",
    "# change n_channel\n",
    "print(epoches)\n",
    "model = Model(n_channel=1).to(device)  \n",
    "optimizer = torch.optim.Adam(model.parameters()) \n",
    "loss_fn = torch.nn.CrossEntropyLoss()\n",
    "###################################################\n",
    "transform = transforms.Compose([transforms.Resize(32),transforms.ToTensor(), transforms.Normalize((0.5,),(0.5,))])\n",
    "# Mnist or FashionMnist\n",
    "train_dataset_with_fake = FakeNumberDataset(dataset_name=\"mnist\",transform=transform)\n",
    "trainloader = torch.utils.data.DataLoader(train_dataset_with_fake, batch_size=64, shuffle=True)\n",
    "# MNIST or FashionMNIST\n",
    "testset = datasets.MNIST('MNIST_data', train=False, transform=transform) \n",
    "# testset = datasets.CIFAR10('MNIST_data',  train=False, transform=transform)\n",
    "\n",
    "testloader = torch.utils.data.DataLoader(testset, batch_size=64, shuffle=True) \n",
    "###################################################\n",
    "\n",
    "losses = [] \n",
    "trainaccurs = []\n",
    "testaccurs = []\n",
    "epoch_sample = len(train_dataset_with_fake)    #    注意这个base数字\n",
    "print(\"number of imgs in train set:\", epoch_sample)\n",
    "start = time.time()\n",
    "print(\"Start training loop...\")\n",
    "for epoch in range(1, epoches+1):\n",
    "    print(\"-------------------------------------\")\n",
    "    accurate = float(0)\n",
    "    idx = 0\n",
    "    for x, y in trainloader:\n",
    "        x = x.to(device)\n",
    "        y = y.to(device)\n",
    "        model.train()\n",
    "        optimizer.zero_grad()\n",
    "        yhat = model(x)\n",
    "        loss = loss_fn(yhat, y)\n",
    "        loss.backward(retain_graph=True)\n",
    "        optimizer.step()\n",
    "        \n",
    "        yhat = yhat.argmax(dim=1)\n",
    "        accurate += (y==yhat).float().sum()\n",
    "        idx += 1\n",
    "        if idx % 300 == 0:\n",
    "            print(idx, len(trainloader))\n",
    "        \n",
    "    losses.append(loss)\n",
    "\n",
    "    testaccur = checktestaccur(model, testloader, len(testset))    # 注意这里传进去的数字\n",
    "    testaccurs.append(testaccur)\n",
    "    trainaccurs.append(accurate/epoch_sample)\n",
    "    print(\"[{}\\{}], loss: {}, train accuracy: {}, test accuracy: {}.\".format(epoch, epoches, loss, accurate/epoch_sample, testaccur))\n",
    "    print('%s (%d %d%%)' % (timeSince(start, epoch / epoches), epoch, epoch / epoches * 100))\n",
    "plt.figure()\n",
    "plt.plot(range(1, len(losses)+1), losses, '-ro')\n",
    "plt.title(\"Losses\")\n",
    "# plt.plot(range(len(testaccurs)), testaccurs, '-.go')\n",
    "# plt.plot(range(len(trainaccurs)), trainaccurs, '--bo')\n",
    "plt.xlabel('Number of Epochs')\n",
    "plt.ylabel('Percentage')\n",
    "# plt.legend(['Loss', 'Test Accur', 'Train Accur'])\n",
    "plt.show()"
   ]
  },
  {
   "cell_type": "markdown",
   "metadata": {},
   "source": [
    "### Step 4：画fake图"
   ]
  },
  {
   "cell_type": "code",
   "execution_count": 5,
   "metadata": {
    "scrolled": true
   },
   "outputs": [
    {
     "name": "stdout",
     "output_type": "stream",
     "text": [
      "tensor(0.3255)\n",
      "tensor(0.3338)\n",
      "torch.Size([64, 1, 32, 32])\n",
      "torch.Size([64, 1, 32, 32])\n",
      "tensor(-0.7454)\n",
      "tensor(-0.7417)\n"
     ]
    },
    {
     "data": {
      "image/png": "[encoded data removed]",
      "text/plain": [
       "<Figure size 1080x1080 with 2 Axes>"
      ]
     },
     "metadata": {
      "needs_background": "light"
     },
     "output_type": "display_data"
    }
   ],
   "source": [
    "real_batch = next(iter(testloader))\n",
    "fake_batch = next(iter(trainloader))\n",
    "a = torch.var(real_batch[0])\n",
    "print(a)\n",
    "b = torch.var(fake_batch[0])\n",
    "print(b)\n",
    "# print(real_batch.shape)\n",
    "print(fake_batch[0].shape)\n",
    "print(real_batch[0].shape)\n",
    "c = torch.mean(real_batch[0])\n",
    "d = torch.mean(fake_batch[0])\n",
    "print(c)\n",
    "print(d)\n",
    "# print(img_list[2].shape)\n",
    "# 画出真实图像\n",
    "plt.figure(figsize=(15,15))\n",
    "plt.subplot(1,2,1)\n",
    "plt.axis(\"off\")\n",
    "plt.title(\"Real_test Images\")\n",
    "plt.imshow(np.transpose(vutils.make_grid(real_batch[0].to(device)[:16], padding=5, normalize=True).cpu(),(1,2,0)))\n",
    "# b = torch.var(img_list[-1],(1,2,0))\n",
    "# print(b)\n",
    "# 画出来自最后一次训练的假图像\n",
    "plt.subplot(1,2,2)\n",
    "plt.axis(\"off\")\n",
    "plt.title(\"Fake Images\")\n",
    "plt.imshow(np.transpose(vutils.make_grid(fake_batch[0].to(device)[:16], padding=5, normalize=True).cpu(),(1,2,0)))\n",
    "# b = torch.var(img_list[-1],(1,2,0))\n",
    "plt.show()"
   ]
  },
  {
   "cell_type": "code",
   "execution_count": 11,
   "metadata": {},
   "outputs": [
    {
     "name": "stdout",
     "output_type": "stream",
     "text": [
      "5\n",
      "torch.Size([1, 32, 32])\n"
     ]
    },
    {
     "data": {
      "text/plain": [
       "<matplotlib.image.AxesImage at 0x1a984b54e10>"
      ]
     },
     "execution_count": 11,
     "metadata": {},
     "output_type": "execute_result"
    },
    {
     "data": {
      "image/png": "[encoded data removed]",
      "text/plain": [
       "<Figure size 432x288 with 1 Axes>"
      ]
     },
     "metadata": {
      "needs_background": "light"
     },
     "output_type": "display_data"
    }
   ],
   "source": [
    "from torchvision import datasets, transforms\n",
    "def denormalize(y):\n",
    "    print(y.shape)\n",
    "    c, w, h = y.shape\n",
    "    assert c == 1, \"the first dimension of y should be 1!\"\n",
    "    mean = torch.tensor([0.5,])  # Failed\n",
    "    std = torch.tensor([0.5,])\n",
    "    realy = torch.zeros_like(y)\n",
    "    for i in range(c):\n",
    "        realy[i] = y[i] * std[i] + mean[i]\n",
    "    realy = torch.clamp(realy, 0, 1)\n",
    "    return realy\n",
    "transform = transforms.Compose([\n",
    "    transforms.Resize(32),\n",
    "    transforms.ToTensor(),\n",
    "    transforms.Normalize(mean=(0.5, ), std=(0.5,))\n",
    "])\n",
    "trainset =FakeNumberDataset(dataset_name=\"mnist\",transform=transform)\n",
    "# 29 30 35 49 77 93\n",
    "\n",
    "# x, y =  trainset[77]\n",
    "train_set = torch.utils.data.DataLoader(trainset, batch_size=64, shuffle=True)\n",
    "for i in range(len(train_set)):\n",
    "    x, y =  trainset[i]\n",
    "    if y==5:\n",
    "        print(y)\n",
    "        break\n",
    "plt.figure()\n",
    "plt.imshow(transforms.ToPILImage()(denormalize(x)))\n",
    "\n"
   ]
  },
  {
   "cell_type": "markdown",
   "metadata": {},
   "source": [
    "### Step 5: save model"
   ]
  },
  {
   "cell_type": "code",
   "execution_count": 15,
   "metadata": {
    "ExecuteTime": {
     "end_time": "2020-04-09T10:29:35.356636Z",
     "start_time": "2020-04-09T10:29:35.342252Z"
    }
   },
   "outputs": [],
   "source": [
    "## Method 1\n",
    "torch.save(model.state_dict(), \"MNIST-Classifier-purefake6train-epoch8-\")\n",
    "\n",
    "# the_model = TheModelClass(*args, **kwargs)\n",
    "# model.load_state_dict(torch.load(\"LSTM-Model-nonbd-Epoch17-0330-1927\"))\n",
    "\n",
    "## Method 2\n",
    "# torch.save(model, \"MyBatchModel-Epoch2-GRU-0328-0953\")\n",
    "# the_model = torch.load(PATH)"
   ]
  },
  {
   "cell_type": "code",
   "execution_count": null,
   "metadata": {},
   "outputs": [],
   "source": []
  }
 ],
 "metadata": {
  "kernelspec": {
   "display_name": "Python 3",
   "language": "python",
   "name": "python3"
  },
  "language_info": {
   "codemirror_mode": {
    "name": "ipython",
    "version": 3
   },
   "file_extension": ".py",
   "mimetype": "text/x-python",
   "name": "python",
   "nbconvert_exporter": "python",
   "pygments_lexer": "ipython3",
   "version": "3.7.0"
  },
  "varInspector": {
   "cols": {
    "lenName": 16,
    "lenType": 16,
    "lenVar": 40
   },
   "kernels_config": {
    "python": {
     "delete_cmd_postfix": "",
     "delete_cmd_prefix": "del ",
     "library": "var_list.py",
     "varRefreshCmd": "print(var_dic_list())"
    },
    "r": {
     "delete_cmd_postfix": ") ",
     "delete_cmd_prefix": "rm(",
     "library": "var_list.r",
     "varRefreshCmd": "cat(var_dic_list()) "
    }
   },
   "types_to_exclude": [
    "module",
    "function",
    "builtin_function_or_method",
    "instance",
    "_Feature"
   ],
   "window_display": false
  }
 },
 "nbformat": 4,
 "nbformat_minor": 2
}
